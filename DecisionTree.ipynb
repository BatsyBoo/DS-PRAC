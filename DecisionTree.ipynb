{
  "nbformat": 4,
  "nbformat_minor": 0,
  "metadata": {
    "colab": {
      "provenance": [],
      "authorship_tag": "ABX9TyPkHjPgXA4aS6EDsVIemzpz",
      "include_colab_link": true
    },
    "kernelspec": {
      "name": "python3",
      "display_name": "Python 3"
    },
    "language_info": {
      "name": "python"
    }
  },
  "cells": [
    {
      "cell_type": "markdown",
      "metadata": {
        "id": "view-in-github",
        "colab_type": "text"
      },
      "source": [
        "<a href=\"https://colab.research.google.com/github/BatsyBoo/DS-PRAC/blob/main/DecisionTree.ipynb\" target=\"_parent\"><img src=\"https://colab.research.google.com/assets/colab-badge.svg\" alt=\"Open In Colab\"/></a>"
      ]
    },
    {
      "cell_type": "code",
      "execution_count": 1,
      "metadata": {
        "id": "PASFRwzY6jwU"
      },
      "outputs": [],
      "source": [
        "import pandas as pd\n",
        "import numpy as  np"
      ]
    },
    {
      "cell_type": "code",
      "source": [
        "\n",
        "data = {\n",
        "    'Employment': [\n",
        "        'Employed', 'Employed', 'Unemployed', 'Student', 'Employed',\n",
        "        'Student', 'Unemployed', 'Employed', 'Student', 'Unemployed'\n",
        "    ],\n",
        "    'Income': [\n",
        "        'High', 'Medium', 'Low', 'Low', 'High',\n",
        "        'Medium', 'Low', 'Medium', 'Low', 'Medium'\n",
        "    ],\n",
        "    'CreditScore': [\n",
        "        'Good', 'Average', 'Poor', 'Average', 'Good',\n",
        "        'Poor', 'Poor', 'Average', 'Good', 'Poor'\n",
        "    ],\n",
        "    'LoanApproval': [\n",
        "        'Yes', 'Yes', 'No', 'No', 'Yes',\n",
        "        'No', 'No', 'Yes', 'Yes', 'No'\n",
        "    ]\n",
        "}\n",
        "\n",
        "df = pd.DataFrame(data)\n",
        "print(df)\n"
      ],
      "metadata": {
        "colab": {
          "base_uri": "https://localhost:8080/"
        },
        "id": "_3MpOzUU6wLg",
        "outputId": "e953a9ec-a3db-45a8-c726-a0984a8c8cfc"
      },
      "execution_count": 2,
      "outputs": [
        {
          "output_type": "stream",
          "name": "stdout",
          "text": [
            "   Employment  Income CreditScore LoanApproval\n",
            "0    Employed    High        Good          Yes\n",
            "1    Employed  Medium     Average          Yes\n",
            "2  Unemployed     Low        Poor           No\n",
            "3     Student     Low     Average           No\n",
            "4    Employed    High        Good          Yes\n",
            "5     Student  Medium        Poor           No\n",
            "6  Unemployed     Low        Poor           No\n",
            "7    Employed  Medium     Average          Yes\n",
            "8     Student     Low        Good          Yes\n",
            "9  Unemployed  Medium        Poor           No\n"
          ]
        }
      ]
    },
    {
      "cell_type": "code",
      "source": [],
      "metadata": {
        "id": "0bI-2E6A80ce"
      },
      "execution_count": null,
      "outputs": []
    }
  ]
}