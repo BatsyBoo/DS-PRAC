{
  "nbformat": 4,
  "nbformat_minor": 0,
  "metadata": {
    "colab": {
      "provenance": [],
      "include_colab_link": true
    },
    "kernelspec": {
      "name": "python3",
      "display_name": "Python 3"
    },
    "language_info": {
      "name": "python"
    }
  },
  "cells": [
    {
      "cell_type": "markdown",
      "metadata": {
        "id": "view-in-github",
        "colab_type": "text"
      },
      "source": [
        "<a href=\"https://colab.research.google.com/github/BatsyBoo/DS-PRAC/blob/main/PCA_do.ipynb\" target=\"_parent\"><img src=\"https://colab.research.google.com/assets/colab-badge.svg\" alt=\"Open In Colab\"/></a>"
      ]
    },
    {
      "cell_type": "code",
      "source": [
        "!git config --global user.email \"25mcs116@nith.co.in\"\n",
        "!git config --global user.name \"B Boo\"\n"
      ],
      "metadata": {
        "id": "fM8B0xof11EE"
      },
      "execution_count": 9,
      "outputs": []
    },
    {
      "cell_type": "code",
      "source": [
        "!git clone https://github.com/BatsyBoo/DS-PRAC\n"
      ],
      "metadata": {
        "colab": {
          "base_uri": "https://localhost:8080/"
        },
        "id": "F-tT2GC32BZH",
        "outputId": "f707ae5c-5e1a-4709-9fc6-4afc3675f6c1"
      },
      "execution_count": 11,
      "outputs": [
        {
          "output_type": "stream",
          "name": "stdout",
          "text": [
            "Cloning into 'DS-PRAC'...\n",
            "remote: Enumerating objects: 12, done.\u001b[K\n",
            "remote: Counting objects: 100% (12/12), done.\u001b[K\n",
            "remote: Compressing objects: 100% (10/10), done.\u001b[K\n",
            "remote: Total 12 (delta 1), reused 0 (delta 0), pack-reused 0 (from 0)\u001b[K\n",
            "Receiving objects: 100% (12/12), 317.23 KiB | 1.76 MiB/s, done.\n",
            "Resolving deltas: 100% (1/1), done.\n"
          ]
        }
      ]
    },
    {
      "cell_type": "code",
      "source": [
        "from google.colab import files"
      ],
      "metadata": {
        "id": "YaMo2tpA3h7A"
      },
      "execution_count": 12,
      "outputs": []
    },
    {
      "cell_type": "code",
      "source": [],
      "metadata": {
        "id": "Fjh7144t4fWW"
      },
      "execution_count": null,
      "outputs": []
    },
    {
      "cell_type": "code",
      "execution_count": 3,
      "metadata": {
        "id": "4iNjqy_IEEO_"
      },
      "outputs": [],
      "source": [
        "import pandas as pd\n",
        "import numpy as np\n",
        "import matplotlib.pyplot as plt\n",
        "\n",
        " # Small example dataset: 6 samples, 3 features\n",
        "X = np.array([\n",
        "       [2.5, 2.4, 1.2],\n",
        "       [0.5, 0.7, 0.3],\n",
        "       [2.2, 2.9, 1.0],\n",
        "       [1.9, 2.2, 0.8],\n",
        "       [3.1, 3.0, 1.4],\n",
        "       [2.3, 2.7, 1.1],\n",
        "], dtype=float)"
      ]
    },
    {
      "cell_type": "code",
      "source": [
        "X_mean = np.mean(X, axis=0)\n",
        "\n",
        "print(X_mean)"
      ],
      "metadata": {
        "colab": {
          "base_uri": "https://localhost:8080/"
        },
        "id": "nD1sv_A_EvY5",
        "outputId": "f81a6183-d856-4ace-b338-1735df322162"
      },
      "execution_count": 4,
      "outputs": [
        {
          "output_type": "stream",
          "name": "stdout",
          "text": [
            "[2.08333333 2.31666667 0.96666667]\n"
          ]
        }
      ]
    },
    {
      "cell_type": "code",
      "source": [
        "# print(X.shape[0])\n",
        "vari=((X-X_mean)*(X-X_mean))/X.shape[0]\n",
        "print(vari)"
      ],
      "metadata": {
        "colab": {
          "base_uri": "https://localhost:8080/"
        },
        "id": "z8UxkK6fb43E",
        "outputId": "5c192ff2-9535-4f1a-e5b9-b597c3ab3215"
      },
      "execution_count": 5,
      "outputs": [
        {
          "output_type": "stream",
          "name": "stdout",
          "text": [
            "[[2.89351852e-02 1.15740741e-03 9.07407407e-03]\n",
            " [4.17824074e-01 4.35601852e-01 7.40740741e-02]\n",
            " [2.26851852e-03 5.67129630e-02 1.85185185e-04]\n",
            " [5.60185185e-03 2.26851852e-03 4.62962963e-03]\n",
            " [1.72268519e-01 7.78240741e-02 3.12962963e-02]\n",
            " [7.82407407e-03 2.44907407e-02 2.96296296e-03]]\n"
          ]
        }
      ]
    },
    {
      "cell_type": "code",
      "source": [
        "X_centered = X - X_mean\n",
        "cov_matrix = np.cov(X_centered, rowvar=False)\n",
        "print(cov_matrix)"
      ],
      "metadata": {
        "colab": {
          "base_uri": "https://localhost:8080/"
        },
        "id": "fApJ2H-KdQqE",
        "outputId": "9ff2b36b-0102-49f7-95ac-10e93ebb52f0"
      },
      "execution_count": 8,
      "outputs": [
        {
          "output_type": "stream",
          "name": "stdout",
          "text": [
            "[[0.76166667 0.69233333 0.33133333]\n",
            " [0.69233333 0.71766667 0.29666667]\n",
            " [0.33133333 0.29666667 0.14666667]]\n"
          ]
        }
      ]
    },
    {
      "cell_type": "code",
      "source": [
        "!apt-get install git"
      ],
      "metadata": {
        "id": "0dyZRHykfpZy",
        "colab": {
          "base_uri": "https://localhost:8080/"
        },
        "outputId": "1cf81ee2-c6c5-479f-9a9c-8fc5efad9b0e"
      },
      "execution_count": 1,
      "outputs": [
        {
          "output_type": "stream",
          "name": "stdout",
          "text": [
            "Reading package lists... Done\n",
            "Building dependency tree... Done\n",
            "Reading state information... Done\n",
            "git is already the newest version (1:2.34.1-1ubuntu1.15).\n",
            "0 upgraded, 0 newly installed, 0 to remove and 35 not upgraded.\n"
          ]
        }
      ]
    },
    {
      "cell_type": "code",
      "source": [],
      "metadata": {
        "id": "TzGhxO4o1U0L"
      },
      "execution_count": null,
      "outputs": []
    }
  ]
}