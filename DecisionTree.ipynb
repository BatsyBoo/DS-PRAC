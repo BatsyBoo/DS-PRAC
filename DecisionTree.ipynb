{
  "nbformat": 4,
  "nbformat_minor": 0,
  "metadata": {
    "colab": {
      "provenance": [],
      "authorship_tag": "ABX9TyMuItLM4T3DzNl4Mw0VG9AM",
      "include_colab_link": true
    },
    "kernelspec": {
      "name": "python3",
      "display_name": "Python 3"
    },
    "language_info": {
      "name": "python"
    }
  },
  "cells": [
    {
      "cell_type": "markdown",
      "metadata": {
        "id": "view-in-github",
        "colab_type": "text"
      },
      "source": [
        "<a href=\"https://colab.research.google.com/github/BatsyBoo/DS-PRAC/blob/main/DecisionTree.ipynb\" target=\"_parent\"><img src=\"https://colab.research.google.com/assets/colab-badge.svg\" alt=\"Open In Colab\"/></a>"
      ]
    },
    {
      "cell_type": "code",
      "execution_count": null,
      "metadata": {
        "id": "PASFRwzY6jwU"
      },
      "outputs": [],
      "source": [
        "import pandas as pd\n",
        "import numpy as  np"
      ]
    },
    {
      "cell_type": "code",
      "source": [
        "\n",
        "# data = {\n",
        "#     'Employment': [\n",
        "#         'Employed', 'Employed', 'Unemployed', 'Student', 'Employed',\n",
        "#         'Student', 'Unemployed', 'Employed', 'Student', 'Unemployed'\n",
        "#     ],\n",
        "#     'Income': [\n",
        "#         'High', 'Medium', 'Low', 'Low', 'High',\n",
        "#         'Medium', 'Low', 'Medium', 'Low', 'Medium'\n",
        "#     ],\n",
        "#     'CreditScore': [\n",
        "#         'Good', 'Average', 'Poor', 'Average', 'Good',\n",
        "#         'Poor', 'Poor', 'Average', 'Good', 'Poor'\n",
        "#     ],\n",
        "#     'LoanApproval': [\n",
        "#         'Yes', 'Yes', 'No', 'No', 'Yes',\n",
        "#         'No', 'No', 'Yes', 'Yes', 'No'\n",
        "#     ]\n",
        "# }\n",
        "\n",
        "\n",
        "data = {\n",
        "    'Employment': [\n",
        "        'Employed', 'Employed', 'Unemployed', 'Student', 'Employed',\n",
        "        'Student', 'Unemployed', 'Employed', 'Student', 'Unemployed',\n",
        "        'Employed', 'Unemployed', 'Student', 'Employed', 'Self-Employed',\n",
        "        'Unemployed', 'Employed', 'Self-Employed', 'Student', 'Unemployed',\n",
        "        'Employed', 'Student', 'Self-Employed', 'Employed', 'Unemployed'\n",
        "    ],\n",
        "    'Income': [\n",
        "        'High', 'Medium', 'Low', 'Low', 'High',\n",
        "        'Medium', 'Low', 'Medium', 'Low', 'Medium',\n",
        "        'High', 'Low', 'Low', 'High', 'High',\n",
        "        'Low', 'Medium', 'High', 'Low', 'Low',\n",
        "        'Medium', 'Medium', 'High', 'High', 'Low'\n",
        "    ],\n",
        "    'CreditScore': [\n",
        "        'Good', 'Average', 'Poor', 'Average', 'Good',\n",
        "        'Poor', 'Poor', 'Average', 'Good', 'Poor',\n",
        "        'Good', 'Poor', 'Average', 'Good', 'Excellent',\n",
        "        'Poor', 'Average', 'Excellent', 'Average', 'Poor',\n",
        "        'Good', 'Poor', 'Excellent', 'Good', 'Poor'\n",
        "    ],\n",
        "    'LoanApproval': [\n",
        "        'Yes', 'Yes', 'No', 'No', 'Yes',\n",
        "        'No', 'No', 'Yes', 'Yes', 'No',\n",
        "        'Yes', 'No', 'No', 'Yes', 'Yes',\n",
        "        'No', 'Yes', 'Yes', 'No', 'No',\n",
        "        'Yes', 'No', 'Yes', 'Yes', 'No'\n",
        "    ]\n",
        "}\n",
        "\n",
        "\n",
        "\n",
        "df = pd.DataFrame(data)\n",
        "print(df)\n"
      ],
      "metadata": {
        "colab": {
          "base_uri": "https://localhost:8080/"
        },
        "id": "_3MpOzUU6wLg",
        "outputId": "38de56f7-2f20-495b-e926-b95595013b3b"
      },
      "execution_count": null,
      "outputs": [
        {
          "output_type": "stream",
          "name": "stdout",
          "text": [
            "       Employment  Income CreditScore LoanApproval\n",
            "0        Employed    High        Good          Yes\n",
            "1        Employed  Medium     Average          Yes\n",
            "2      Unemployed     Low        Poor           No\n",
            "3         Student     Low     Average           No\n",
            "4        Employed    High        Good          Yes\n",
            "5         Student  Medium        Poor           No\n",
            "6      Unemployed     Low        Poor           No\n",
            "7        Employed  Medium     Average          Yes\n",
            "8         Student     Low        Good          Yes\n",
            "9      Unemployed  Medium        Poor           No\n",
            "10       Employed    High        Good          Yes\n",
            "11     Unemployed     Low        Poor           No\n",
            "12        Student     Low     Average           No\n",
            "13       Employed    High        Good          Yes\n",
            "14  Self-Employed    High   Excellent          Yes\n",
            "15     Unemployed     Low        Poor           No\n",
            "16       Employed  Medium     Average          Yes\n",
            "17  Self-Employed    High   Excellent          Yes\n",
            "18        Student     Low     Average           No\n",
            "19     Unemployed     Low        Poor           No\n",
            "20       Employed  Medium        Good          Yes\n",
            "21        Student  Medium        Poor           No\n",
            "22  Self-Employed    High   Excellent          Yes\n",
            "23       Employed    High        Good          Yes\n",
            "24     Unemployed     Low        Poor           No\n"
          ]
        }
      ]
    },
    {
      "cell_type": "code",
      "source": [
        "# def loge2(n)->float:\n",
        "#   c=0\n",
        "#   n=float(n)\n",
        "#   c=float(c)\n",
        "#   while(n>1):\n",
        "#     n=float(n//2)\n",
        "#     print(\"n= \",n)\n",
        "#     c=float(c+1)\n",
        "#   return c\n",
        "\n",
        "# loge2(3)\n",
        "\n",
        "from math import log2"
      ],
      "metadata": {
        "id": "0bI-2E6A80ce"
      },
      "execution_count": null,
      "outputs": []
    },
    {
      "cell_type": "code",
      "source": [
        "# def entropy(y):\n",
        "#   # Calculate entropy\n",
        "#   # y=Loan approval\n",
        "#   values ,count= np.unique(y, return_counts=True)\n",
        "#   print(\"\\n\",count,\" -> \",count,\"\\n\")\n",
        "\n",
        "#   probabilities=count/count.sum() #probabilities\n",
        "# # Entropy= -(E p.log2p)\n",
        "#   for p in probabilities:\n",
        "#     if p>0:\n",
        "#       P+=p*log2(p)\n",
        "#   return p"
      ],
      "metadata": {
        "id": "chRm37tzCSmW"
      },
      "execution_count": null,
      "outputs": []
    },
    {
      "cell_type": "code",
      "source": [
        "def entropy(y):\n",
        "  # Calculate entropy\n",
        "  # y=Loan approval column\n",
        "  values ,count= np.unique(y, return_counts=True)\n",
        "  probabilities=count/count.sum() #probabilities\n",
        "# Entropy= -(E p.log2p)\n",
        "  P=0\n",
        "  for p in probabilities:\n",
        "    if p>0:\n",
        "      P+=p*log2(p)\n",
        "  return -P"
      ],
      "metadata": {
        "id": "Unsa51dzCqAL"
      },
      "execution_count": 20,
      "outputs": []
    },
    {
      "cell_type": "code",
      "source": [
        "entropy(data['LoanApproval'])"
      ],
      "metadata": {
        "colab": {
          "base_uri": "https://localhost:8080/"
        },
        "id": "hxDTczWUCalU",
        "outputId": "1f2806c8-aaea-47ae-d4e9-ea20fecfe10c"
      },
      "execution_count": 21,
      "outputs": [
        {
          "output_type": "execute_result",
          "data": {
            "text/plain": [
              "np.float64(0.9988455359952018)"
            ]
          },
          "metadata": {},
          "execution_count": 21
        }
      ]
    },
    {
      "cell_type": "code",
      "source": [
        "len(data)"
      ],
      "metadata": {
        "colab": {
          "base_uri": "https://localhost:8080/"
        },
        "id": "Q3wHMUbsAAkg",
        "outputId": "b565ae91-90b4-47ee-932f-a42687353569"
      },
      "execution_count": 22,
      "outputs": [
        {
          "output_type": "execute_result",
          "data": {
            "text/plain": [
              "4"
            ]
          },
          "metadata": {},
          "execution_count": 22
        }
      ]
    },
    {
      "cell_type": "code",
      "source": [
        "data['CreditScore']"
      ],
      "metadata": {
        "colab": {
          "base_uri": "https://localhost:8080/"
        },
        "id": "vNF5y8TTF4m6",
        "outputId": "d95583fe-895c-4046-8771-b3a8328f49a8"
      },
      "execution_count": 23,
      "outputs": [
        {
          "output_type": "execute_result",
          "data": {
            "text/plain": [
              "['Good',\n",
              " 'Average',\n",
              " 'Poor',\n",
              " 'Average',\n",
              " 'Good',\n",
              " 'Poor',\n",
              " 'Poor',\n",
              " 'Average',\n",
              " 'Good',\n",
              " 'Poor',\n",
              " 'Good',\n",
              " 'Poor',\n",
              " 'Average',\n",
              " 'Good',\n",
              " 'Excellent',\n",
              " 'Poor',\n",
              " 'Average',\n",
              " 'Excellent',\n",
              " 'Average',\n",
              " 'Poor',\n",
              " 'Good',\n",
              " 'Poor',\n",
              " 'Excellent',\n",
              " 'Good',\n",
              " 'Poor']"
            ]
          },
          "metadata": {},
          "execution_count": 23
        }
      ]
    },
    {
      "cell_type": "code",
      "source": [
        "def gain(y):\n",
        "  values ,count= np.unique(y, return_counts=True)\n",
        "  child=0.0;\n",
        "  for i in range(len(values)):\n",
        "    subset = y[y == values[i]]\n",
        "    child+=(count[i]/len(y))*entropy(subset)\n",
        "  return entropy(data['LoanApproval'])-child"
      ],
      "metadata": {
        "id": "_f7W4qOvBX_N"
      },
      "execution_count": 24,
      "outputs": []
    },
    {
      "cell_type": "code",
      "source": [
        "def gain(y):\n",
        "  # values ,count= np.unique(y, return_counts=True)\n",
        "  values=y.unique()\n",
        "  child=0.0;\n",
        "  # for i in range(len(values)):\n",
        "  #   subset = y[y == count[i]]\n",
        "  #   child+=(count[i]/len(y))*entropy(subset)\n",
        "  for i in values:\n",
        "    subset = df[df[y.name] == i]['LoanApproval']\n",
        "    child+=(len(subset)/len(df))*entropy(subset)\n",
        "  return entropy(df['LoanApproval'])-child"
      ],
      "metadata": {
        "id": "ghfS-ya6nsuM"
      },
      "execution_count": 25,
      "outputs": []
    },
    {
      "cell_type": "code",
      "source": [
        "gain(df['CreditScore'])"
      ],
      "metadata": {
        "colab": {
          "base_uri": "https://localhost:8080/"
        },
        "id": "MiBgsCWDApWn",
        "outputId": "fcfe3412-de0b-4937-dc69-aa034cef6780"
      },
      "execution_count": 26,
      "outputs": [
        {
          "output_type": "execute_result",
          "data": {
            "text/plain": [
              "np.float64(0.7588455359952018)"
            ]
          },
          "metadata": {},
          "execution_count": 26
        }
      ]
    },
    {
      "cell_type": "code",
      "source": [],
      "metadata": {
        "id": "jYuDmIqna8Ie"
      },
      "execution_count": null,
      "outputs": []
    }
  ]
}