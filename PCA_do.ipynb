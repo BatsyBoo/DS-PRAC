{
  "nbformat": 4,
  "nbformat_minor": 0,
  "metadata": {
    "colab": {
      "provenance": [],
      "include_colab_link": true
    },
    "kernelspec": {
      "name": "python3",
      "display_name": "Python 3"
    },
    "language_info": {
      "name": "python"
    }
  },
  "cells": [
    {
      "cell_type": "markdown",
      "metadata": {
        "id": "view-in-github",
        "colab_type": "text"
      },
      "source": [
        "<a href=\"https://colab.research.google.com/github/BatsyBoo/DS-PRAC/blob/main/PCA_do.ipynb\" target=\"_parent\"><img src=\"https://colab.research.google.com/assets/colab-badge.svg\" alt=\"Open In Colab\"/></a>"
      ]
    },
    {
      "cell_type": "code",
      "source": [
        "!git config --global user.email \"25mcs116@nith.co.in\"\n",
        "!git config --global user.name \"B Boo\"\n"
      ],
      "metadata": {
        "id": "fM8B0xof11EE"
      },
      "execution_count": null,
      "outputs": []
    },
    {
      "cell_type": "code",
      "source": [
        "!git clone https://github.com/BatsyBoo/DS-PRAC\n"
      ],
      "metadata": {
        "colab": {
          "base_uri": "https://localhost:8080/"
        },
        "id": "F-tT2GC32BZH",
        "outputId": "f707ae5c-5e1a-4709-9fc6-4afc3675f6c1"
      },
      "execution_count": null,
      "outputs": [
        {
          "output_type": "stream",
          "name": "stdout",
          "text": [
            "Cloning into 'DS-PRAC'...\n",
            "remote: Enumerating objects: 12, done.\u001b[K\n",
            "remote: Counting objects: 100% (12/12), done.\u001b[K\n",
            "remote: Compressing objects: 100% (10/10), done.\u001b[K\n",
            "remote: Total 12 (delta 1), reused 0 (delta 0), pack-reused 0 (from 0)\u001b[K\n",
            "Receiving objects: 100% (12/12), 317.23 KiB | 1.76 MiB/s, done.\n",
            "Resolving deltas: 100% (1/1), done.\n"
          ]
        }
      ]
    },
    {
      "cell_type": "code",
      "source": [
        "\"\"\"#Steps:\n",
        "1.Calc mean#\n",
        "2.calc covariance\n",
        "3.calc eingen values n eingen vectors\n",
        "4.choose principal components\n",
        "5.project on principal componentss\n",
        "\n",
        "\n",
        "\"\"\""
      ],
      "metadata": {
        "id": "YaMo2tpA3h7A"
      },
      "execution_count": null,
      "outputs": []
    },
    {
      "cell_type": "code",
      "source": [
        "!apt-get install git"
      ],
      "metadata": {
        "id": "0dyZRHykfpZy",
        "colab": {
          "base_uri": "https://localhost:8080/"
        },
        "outputId": "1cf81ee2-c6c5-479f-9a9c-8fc5efad9b0e"
      },
      "execution_count": null,
      "outputs": [
        {
          "output_type": "stream",
          "name": "stdout",
          "text": [
            "Reading package lists... Done\n",
            "Building dependency tree... Done\n",
            "Reading state information... Done\n",
            "git is already the newest version (1:2.34.1-1ubuntu1.15).\n",
            "0 upgraded, 0 newly installed, 0 to remove and 35 not upgraded.\n"
          ]
        }
      ]
    },
    {
      "cell_type": "code",
      "execution_count": null,
      "metadata": {
        "id": "4iNjqy_IEEO_"
      },
      "outputs": [],
      "source": [
        "import pandas as pd\n",
        "import numpy as np\n",
        "import matplotlib.pyplot as plt\n",
        "\n",
        " # Small example dataset: 6 samples, 3 features\n",
        "X = np.array([\n",
        "       [2.5, 2.4, 1.2],\n",
        "       [0.5, 0.7, 0.3],\n",
        "       [2.2, 2.9, 1.0],\n",
        "       [1.9, 2.2, 0.8],\n",
        "       [3.1, 3.0, 1.4],\n",
        "       [2.3, 2.7, 1.1],\n",
        "], dtype=float)"
      ]
    },
    {
      "cell_type": "code",
      "source": [
        "X_mean=np.sum(X, axis=0) / X.shape[0]\n",
        "print(X_mean)"
      ],
      "metadata": {
        "colab": {
          "base_uri": "https://localhost:8080/"
        },
        "id": "nD1sv_A_EvY5",
        "outputId": "33b30682-7544-48ec-92d4-317fa3431d0c"
      },
      "execution_count": null,
      "outputs": [
        {
          "output_type": "stream",
          "name": "stdout",
          "text": [
            "[2.08333333 2.31666667 0.96666667]\n"
          ]
        }
      ]
    },
    {
      "cell_type": "code",
      "source": [
        "# print(X.shape[0])\n",
        "vari=((X-X_mean)*(X-X_mean))/X.shape[0]\n",
        "print(vari)"
      ],
      "metadata": {
        "colab": {
          "base_uri": "https://localhost:8080/"
        },
        "id": "z8UxkK6fb43E",
        "outputId": "0399b262-7539-447a-c3ad-ca9efbe89832"
      },
      "execution_count": null,
      "outputs": [
        {
          "output_type": "stream",
          "name": "stdout",
          "text": [
            "[[2.89351852e-02 1.15740741e-03 9.07407407e-03]\n",
            " [4.17824074e-01 4.35601852e-01 7.40740741e-02]\n",
            " [2.26851852e-03 5.67129630e-02 1.85185185e-04]\n",
            " [5.60185185e-03 2.26851852e-03 4.62962963e-03]\n",
            " [1.72268519e-01 7.78240741e-02 3.12962963e-02]\n",
            " [7.82407407e-03 2.44907407e-02 2.96296296e-03]]\n"
          ]
        }
      ]
    },
    {
      "cell_type": "code",
      "source": [
        "X_centered = X - X_mean"
      ],
      "metadata": {
        "id": "fApJ2H-KdQqE"
      },
      "execution_count": null,
      "outputs": []
    },
    {
      "cell_type": "code",
      "source": [
        "var_prop = np.sum(X_centered**2, axis=0) / X.shape[0]\n",
        "print('Variance:\\n',var_prop)"
      ],
      "metadata": {
        "colab": {
          "base_uri": "https://localhost:8080/"
        },
        "id": "0dbovaNE4rA4",
        "outputId": "69ade1cd-3c94-4283-e46e-08081e4b1877"
      },
      "execution_count": null,
      "outputs": [
        {
          "output_type": "stream",
          "name": "stdout",
          "text": [
            "Variance:\n",
            " [0.63472222 0.59805556 0.12222222]\n"
          ]
        }
      ]
    },
    {
      "cell_type": "code",
      "source": [
        "# cov_matrix = np.cov(X_centered, rowvar=False)\n",
        "cov_matrix = (X_centered.T @ X_centered) /X.shape[0]\n",
        "print(\"cov_matrix\\n\",cov_matrix)\n"
      ],
      "metadata": {
        "colab": {
          "base_uri": "https://localhost:8080/"
        },
        "id": "04z43G5T2nGU",
        "outputId": "36e7b2d5-8b84-41cb-9e47-442371876361"
      },
      "execution_count": null,
      "outputs": [
        {
          "output_type": "stream",
          "name": "stdout",
          "text": [
            "cov_matrix\n",
            " [[0.63472222 0.57694444 0.27611111]\n",
            " [0.57694444 0.59805556 0.24722222]\n",
            " [0.27611111 0.24722222 0.12222222]]\n"
          ]
        }
      ]
    },
    {
      "cell_type": "code",
      "source": [
        "eigen_vals, eigen_vecs = np.linalg.eig(cov_matrix)\n",
        "print(\"Eigenvalues:\\n\", eigen_vals)\n",
        "print(\"Eigenvectors (principal components):\\n\", eigen_vecs)"
      ],
      "metadata": {
        "id": "TzGhxO4o1U0L",
        "colab": {
          "base_uri": "https://localhost:8080/"
        },
        "outputId": "fe448648-5d41-4416-997b-ed1e40f28972"
      },
      "execution_count": null,
      "outputs": [
        {
          "output_type": "stream",
          "name": "stdout",
          "text": [
            "Eigenvalues:\n",
            " [1.30918334 0.04426893 0.00154773]\n",
            "Eigenvectors (principal components):\n",
            " [[-0.68801271 -0.57633092 -0.44100021]\n",
            " [-0.66174677  0.74768725  0.05527187]\n",
            " [-0.29787535 -0.32985822  0.89580346]]\n"
          ]
        }
      ]
    },
    {
      "cell_type": "code",
      "source": [
        "sort_eng"
      ],
      "metadata": {
        "id": "uBCdAn8S4hHt"
      },
      "execution_count": null,
      "outputs": []
    }
  ]
}