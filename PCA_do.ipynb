{
  "nbformat": 4,
  "nbformat_minor": 0,
  "metadata": {
    "colab": {
      "provenance": [],
      "include_colab_link": true
    },
    "kernelspec": {
      "name": "python3",
      "display_name": "Python 3"
    },
    "language_info": {
      "name": "python"
    }
  },
  "cells": [
    {
      "cell_type": "markdown",
      "metadata": {
        "id": "view-in-github",
        "colab_type": "text"
      },
      "source": [
        "<a href=\"https://colab.research.google.com/github/BatsyBoo/DS-PRAC/blob/main/PCA_do.ipynb\" target=\"_parent\"><img src=\"https://colab.research.google.com/assets/colab-badge.svg\" alt=\"Open In Colab\"/></a>"
      ]
    },
    {
      "cell_type": "code",
      "source": [
        "!git config --global user.email \"25mcs116@nith.co.in\"\n",
        "!git config --global user.name \"B Boo\"\n"
      ],
      "metadata": {
        "id": "fM8B0xof11EE"
      },
      "execution_count": null,
      "outputs": []
    },
    {
      "cell_type": "code",
      "source": [
        "!git clone https://github.com/BatsyBoo/DS-PRAC\n"
      ],
      "metadata": {
        "colab": {
          "base_uri": "https://localhost:8080/"
        },
        "id": "F-tT2GC32BZH",
        "outputId": "f707ae5c-5e1a-4709-9fc6-4afc3675f6c1"
      },
      "execution_count": null,
      "outputs": [
        {
          "output_type": "stream",
          "name": "stdout",
          "text": [
            "Cloning into 'DS-PRAC'...\n",
            "remote: Enumerating objects: 12, done.\u001b[K\n",
            "remote: Counting objects: 100% (12/12), done.\u001b[K\n",
            "remote: Compressing objects: 100% (10/10), done.\u001b[K\n",
            "remote: Total 12 (delta 1), reused 0 (delta 0), pack-reused 0 (from 0)\u001b[K\n",
            "Receiving objects: 100% (12/12), 317.23 KiB | 1.76 MiB/s, done.\n",
            "Resolving deltas: 100% (1/1), done.\n"
          ]
        }
      ]
    },
    {
      "cell_type": "code",
      "source": [
        "\"\"\"#Steps:\n",
        "1.Calc mean#\n",
        "2.calc covariance\n",
        "3.calc eingen values n eingen vectors\n",
        "4.choose principal components\n",
        "5.project on principal componentss\n",
        "\n",
        "\n",
        "\"\"\""
      ],
      "metadata": {
        "id": "YaMo2tpA3h7A"
      },
      "execution_count": null,
      "outputs": []
    },
    {
      "cell_type": "code",
      "source": [
        "!apt-get install git"
      ],
      "metadata": {
        "id": "0dyZRHykfpZy",
        "colab": {
          "base_uri": "https://localhost:8080/"
        },
        "outputId": "1cf81ee2-c6c5-479f-9a9c-8fc5efad9b0e"
      },
      "execution_count": null,
      "outputs": [
        {
          "output_type": "stream",
          "name": "stdout",
          "text": [
            "Reading package lists... Done\n",
            "Building dependency tree... Done\n",
            "Reading state information... Done\n",
            "git is already the newest version (1:2.34.1-1ubuntu1.15).\n",
            "0 upgraded, 0 newly installed, 0 to remove and 35 not upgraded.\n"
          ]
        }
      ]
    },
    {
      "cell_type": "code",
      "execution_count": 1,
      "metadata": {
        "id": "4iNjqy_IEEO_"
      },
      "outputs": [],
      "source": [
        "import pandas as pd\n",
        "import numpy as np\n",
        "import matplotlib.pyplot as plt\n",
        "\n",
        " # Small example dataset: 6 samples, 3 features\n",
        "X = np.array([\n",
        "       [2.5, 2.4, 1.2],\n",
        "       [0.5, 0.7, 0.3],\n",
        "       [2.2, 2.9, 1.0],\n",
        "       [1.9, 2.2, 0.8],\n",
        "       [3.1, 3.0, 1.4],\n",
        "       [2.3, 2.7, 1.1],\n",
        "], dtype=float)"
      ]
    },
    {
      "cell_type": "code",
      "source": [
        "X_mean=np.sum(X, axis=0) / X.shape[0]\n",
        "print(X_mean)"
      ],
      "metadata": {
        "colab": {
          "base_uri": "https://localhost:8080/",
          "height": 0
        },
        "id": "nD1sv_A_EvY5",
        "outputId": "2d882684-e4c1-4591-9eb0-9ca425426cdf"
      },
      "execution_count": 2,
      "outputs": [
        {
          "output_type": "stream",
          "name": "stdout",
          "text": [
            "[2.08333333 2.31666667 0.96666667]\n"
          ]
        }
      ]
    },
    {
      "cell_type": "code",
      "source": [
        "# print(X.shape[0])\n",
        "vari=((X-X_mean)*(X-X_mean))/X.shape[0]\n",
        "print(vari)"
      ],
      "metadata": {
        "colab": {
          "base_uri": "https://localhost:8080/",
          "height": 0
        },
        "id": "z8UxkK6fb43E",
        "outputId": "255d792a-9d70-43aa-a0c7-6c74e42be970"
      },
      "execution_count": 3,
      "outputs": [
        {
          "output_type": "stream",
          "name": "stdout",
          "text": [
            "[[2.89351852e-02 1.15740741e-03 9.07407407e-03]\n",
            " [4.17824074e-01 4.35601852e-01 7.40740741e-02]\n",
            " [2.26851852e-03 5.67129630e-02 1.85185185e-04]\n",
            " [5.60185185e-03 2.26851852e-03 4.62962963e-03]\n",
            " [1.72268519e-01 7.78240741e-02 3.12962963e-02]\n",
            " [7.82407407e-03 2.44907407e-02 2.96296296e-03]]\n"
          ]
        }
      ]
    },
    {
      "cell_type": "code",
      "source": [
        "X_centered = X - X_mean"
      ],
      "metadata": {
        "id": "fApJ2H-KdQqE"
      },
      "execution_count": 4,
      "outputs": []
    },
    {
      "cell_type": "code",
      "source": [
        "var_prop = np.sum(X_centered**2, axis=0) / X.shape[0]\n",
        "print('Variance:\\n',var_prop)"
      ],
      "metadata": {
        "colab": {
          "base_uri": "https://localhost:8080/",
          "height": 0
        },
        "id": "0dbovaNE4rA4",
        "outputId": "d6685e9a-8aa2-4abe-cee5-ff5778c37281"
      },
      "execution_count": 5,
      "outputs": [
        {
          "output_type": "stream",
          "name": "stdout",
          "text": [
            "Variance:\n",
            " [0.63472222 0.59805556 0.12222222]\n"
          ]
        }
      ]
    },
    {
      "cell_type": "code",
      "source": [
        "# cov_matrix = np.cov(X_centered, rowvar=False)\n",
        "cov_matrix = (X_centered.T @ X_centered) /X.shape[0]\n",
        "print(\"cov_matrix\\n\",cov_matrix)\n"
      ],
      "metadata": {
        "colab": {
          "base_uri": "https://localhost:8080/",
          "height": 0
        },
        "id": "04z43G5T2nGU",
        "outputId": "cfa0744c-a792-4adb-9790-b3da8c8ee250"
      },
      "execution_count": 6,
      "outputs": [
        {
          "output_type": "stream",
          "name": "stdout",
          "text": [
            "cov_matrix\n",
            " [[0.63472222 0.57694444 0.27611111]\n",
            " [0.57694444 0.59805556 0.24722222]\n",
            " [0.27611111 0.24722222 0.12222222]]\n"
          ]
        }
      ]
    },
    {
      "cell_type": "code",
      "source": [
        "eigen_vals, eigen_vecs = np.linalg.eig(cov_matrix)\n",
        "print(\"Eigenvalues:\\n\", eigen_vals)\n",
        "print(\"Eigenvectors (principal components):\\n\", eigen_vecs)"
      ],
      "metadata": {
        "id": "TzGhxO4o1U0L",
        "colab": {
          "base_uri": "https://localhost:8080/"
        },
        "outputId": "514dd71f-9e34-41f7-f8bd-8fb5b2997bb0"
      },
      "execution_count": 17,
      "outputs": [
        {
          "output_type": "stream",
          "name": "stdout",
          "text": [
            "Eigenvalues:\n",
            " [1.30918334 0.04426893 0.00154773]\n",
            "Eigenvectors (principal components):\n",
            " [[-0.68801271 -0.57633092 -0.44100021]\n",
            " [-0.66174677  0.74768725  0.05527187]\n",
            " [-0.29787535 -0.32985822  0.89580346]]\n"
          ]
        }
      ]
    },
    {
      "cell_type": "code",
      "source": [
        "# sort eigen values\n",
        "sort_eng = eigen_vals.argsort()[::-1]\n",
        "eigen_vals = eigen_vals[sort_eng]\n",
        "eigen_vecs = eigen_vecs[:, sort_eng]"
      ],
      "metadata": {
        "id": "uBCdAn8S4hHt"
      },
      "execution_count": 18,
      "outputs": []
    },
    {
      "cell_type": "code",
      "source": [
        "print(eigen_vecs)"
      ],
      "metadata": {
        "colab": {
          "base_uri": "https://localhost:8080/"
        },
        "id": "SsXr5sC-shO6",
        "outputId": "7a885e22-c074-43bd-9b8f-79ea3cc81b7c"
      },
      "execution_count": 19,
      "outputs": [
        {
          "output_type": "stream",
          "name": "stdout",
          "text": [
            "[[-0.68801271 -0.57633092 -0.44100021]\n",
            " [-0.66174677  0.74768725  0.05527187]\n",
            " [-0.29787535 -0.32985822  0.89580346]]\n"
          ]
        }
      ]
    },
    {
      "cell_type": "code",
      "source": [
        "pc1 = eigen_vecs[:,:2]\n",
        "print(pc1)"
      ],
      "metadata": {
        "colab": {
          "base_uri": "https://localhost:8080/"
        },
        "id": "Aqv5-bRt_0tg",
        "outputId": "72304bd2-57b2-4824-d290-f95d9c021dc2"
      },
      "execution_count": 29,
      "outputs": [
        {
          "output_type": "stream",
          "name": "stdout",
          "text": [
            "[[-0.68801271 -0.57633092]\n",
            " [-0.66174677  0.74768725]\n",
            " [-0.29787535 -0.32985822]]\n"
          ]
        }
      ]
    },
    {
      "cell_type": "code",
      "source": [
        "proj_1D = X_centered @ pc1\n",
        "print(proj_1D)\n"
      ],
      "metadata": {
        "colab": {
          "base_uri": "https://localhost:8080/"
        },
        "id": "H8UUnRNbEAVh",
        "outputId": "738677f2-9395-48c1-b75f-9b83c63c1a4c"
      },
      "execution_count": 30,
      "outputs": [
        {
          "output_type": "stream",
          "name": "stdout",
          "text": [
            "[[-0.41132177 -0.25479753]\n",
            " [ 2.35776097 -0.07633163]\n",
            " [-0.47621628  0.35791702]\n",
            " [ 0.25298534  0.07340686]\n",
            " [-1.28075253 -0.21795537]\n",
            " [-0.44245573  0.11776065]]\n"
          ]
        }
      ]
    },
    {
      "cell_type": "code",
      "source": [
        "proj_1D=proj_1D.ravel()\n",
        "print(proj_1D)"
      ],
      "metadata": {
        "colab": {
          "base_uri": "https://localhost:8080/"
        },
        "id": "egW7evN4H0FE",
        "outputId": "496794d5-83ac-4b1e-98bf-3fc9f0138633"
      },
      "execution_count": 31,
      "outputs": [
        {
          "output_type": "stream",
          "name": "stdout",
          "text": [
            "[-0.41132177 -0.25479753  2.35776097 -0.07633163 -0.47621628  0.35791702\n",
            "  0.25298534  0.07340686 -1.28075253 -0.21795537 -0.44245573  0.11776065]\n"
          ]
        }
      ]
    },
    {
      "cell_type": "code",
      "source": [
        "plt.scatter(proj_1D, np.zeros_like(proj_1D))\n",
        "# for i, val in enumerate(proj_1D):\n",
        "#     plt.text(val, 0, str(i))\n",
        "plt.title(\"Projection onto 1st Principal Component (PC1)\")\n",
        "plt.xlabel(\"PC1\")\n",
        "plt.show()\n"
      ],
      "metadata": {
        "colab": {
          "base_uri": "https://localhost:8080/",
          "height": 472
        },
        "id": "uYbbTUGtGQ6t",
        "outputId": "4fadaacc-a91f-484d-ecef-78c846134283"
      },
      "execution_count": 36,
      "outputs": [
        {
          "output_type": "display_data",
          "data": {
            "text/plain": [
              "<Figure size 640x480 with 1 Axes>"
            ],
            "image/png": "[encoded data removed]"
          },
          "metadata": {}
        }
      ]
    },
    {
      "cell_type": "code",
      "source": [
        "plt.scatter(proj_1D, np.zeros_like(proj_1D))\n",
        "for i, val in enumerate(proj_1D):\n",
        "    plt.text(val, 0, str(i))\n",
        "plt.title(\"Projection onto 1st Principal Component (PC1)\")\n",
        "plt.xlabel(\"PC1\")\n",
        "plt.show()\n"
      ],
      "metadata": {
        "colab": {
          "base_uri": "https://localhost:8080/",
          "height": 472
        },
        "id": "Rw1ByYffH-mh",
        "outputId": "e59d9502-031f-4f00-c85a-afc489661326"
      },
      "execution_count": 35,
      "outputs": [
        {
          "output_type": "display_data",
          "data": {
            "text/plain": [
              "<Figure size 640x480 with 1 Axes>"
            ],
            "image/png": "[encoded data removed]"
          },
          "metadata": {}
        }
      ]
    },
    {
      "cell_type": "code",
      "source": [],
      "metadata": {
        "id": "NHK_p8ONIPlt"
      },
      "execution_count": null,
      "outputs": []
    }
  ]
}