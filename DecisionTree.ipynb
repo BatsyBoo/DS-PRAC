{
  "nbformat": 4,
  "nbformat_minor": 0,
  "metadata": {
    "colab": {
      "provenance": [],
      "authorship_tag": "ABX9TyO4AXSbj+6JXDWXPzzLvBBn",
      "include_colab_link": true
    },
    "kernelspec": {
      "name": "python3",
      "display_name": "Python 3"
    },
    "language_info": {
      "name": "python"
    }
  },
  "cells": [
    {
      "cell_type": "markdown",
      "metadata": {
        "id": "view-in-github",
        "colab_type": "text"
      },
      "source": [
        "<a href=\"https://colab.research.google.com/github/BatsyBoo/DS-PRAC/blob/main/DecisionTree.ipynb\" target=\"_parent\"><img src=\"https://colab.research.google.com/assets/colab-badge.svg\" alt=\"Open In Colab\"/></a>"
      ]
    },
    {
      "cell_type": "code",
      "execution_count": 1,
      "metadata": {
        "id": "PASFRwzY6jwU"
      },
      "outputs": [],
      "source": [
        "import pandas as pd\n",
        "import numpy as  np"
      ]
    },
    {
      "cell_type": "code",
      "source": [
        "\n",
        "# data = {\n",
        "#     'Employment': [\n",
        "#         'Employed', 'Employed', 'Unemployed', 'Student', 'Employed',\n",
        "#         'Student', 'Unemployed', 'Employed', 'Student', 'Unemployed'\n",
        "#     ],\n",
        "#     'Income': [\n",
        "#         'High', 'Medium', 'Low', 'Low', 'High',\n",
        "#         'Medium', 'Low', 'Medium', 'Low', 'Medium'\n",
        "#     ],\n",
        "#     'CreditScore': [\n",
        "#         'Good', 'Average', 'Poor', 'Average', 'Good',\n",
        "#         'Poor', 'Poor', 'Average', 'Good', 'Poor'\n",
        "#     ],\n",
        "#     'LoanApproval': [\n",
        "#         'Yes', 'Yes', 'No', 'No', 'Yes',\n",
        "#         'No', 'No', 'Yes', 'Yes', 'No'\n",
        "#     ]\n",
        "# }\n",
        "\n",
        "\n",
        "data = {\n",
        "    'Employment': [\n",
        "        'Employed', 'Employed', 'Unemployed', 'Student', 'Employed',\n",
        "        'Student', 'Unemployed', 'Employed', 'Student', 'Unemployed',\n",
        "        'Employed', 'Unemployed', 'Student', 'Employed', 'Self-Employed',\n",
        "        'Unemployed', 'Employed', 'Self-Employed', 'Student', 'Unemployed',\n",
        "        'Employed', 'Student', 'Self-Employed', 'Employed', 'Unemployed'\n",
        "    ],\n",
        "    'Income': [\n",
        "        'High', 'Medium', 'Low', 'Low', 'High',\n",
        "        'Medium', 'Low', 'Medium', 'Low', 'Medium',\n",
        "        'High', 'Low', 'Low', 'High', 'High',\n",
        "        'Low', 'Medium', 'High', 'Low', 'Low',\n",
        "        'Medium', 'Medium', 'High', 'High', 'Low'\n",
        "    ],\n",
        "    'CreditScore': [\n",
        "        'Good', 'Average', 'Poor', 'Average', 'Good',\n",
        "        'Poor', 'Poor', 'Average', 'Good', 'Poor',\n",
        "        'Good', 'Poor', 'Average', 'Good', 'Excellent',\n",
        "        'Poor', 'Average', 'Excellent', 'Average', 'Poor',\n",
        "        'Good', 'Poor', 'Excellent', 'Good', 'Poor'\n",
        "    ],\n",
        "    'LoanApproval': [\n",
        "        'Yes', 'Yes', 'No', 'No', 'Yes',\n",
        "        'No', 'No', 'Yes', 'Yes', 'No',\n",
        "        'Yes', 'No', 'No', 'Yes', 'Yes',\n",
        "        'No', 'Yes', 'Yes', 'No', 'No',\n",
        "        'Yes', 'No', 'Yes', 'Yes', 'No'\n",
        "    ]\n",
        "}\n",
        "\n",
        "\n",
        "\n",
        "df = pd.DataFrame(data)\n",
        "print(df)\n"
      ],
      "metadata": {
        "colab": {
          "base_uri": "https://localhost:8080/"
        },
        "id": "_3MpOzUU6wLg",
        "outputId": "38de56f7-2f20-495b-e926-b95595013b3b"
      },
      "execution_count": 2,
      "outputs": [
        {
          "output_type": "stream",
          "name": "stdout",
          "text": [
            "       Employment  Income CreditScore LoanApproval\n",
            "0        Employed    High        Good          Yes\n",
            "1        Employed  Medium     Average          Yes\n",
            "2      Unemployed     Low        Poor           No\n",
            "3         Student     Low     Average           No\n",
            "4        Employed    High        Good          Yes\n",
            "5         Student  Medium        Poor           No\n",
            "6      Unemployed     Low        Poor           No\n",
            "7        Employed  Medium     Average          Yes\n",
            "8         Student     Low        Good          Yes\n",
            "9      Unemployed  Medium        Poor           No\n",
            "10       Employed    High        Good          Yes\n",
            "11     Unemployed     Low        Poor           No\n",
            "12        Student     Low     Average           No\n",
            "13       Employed    High        Good          Yes\n",
            "14  Self-Employed    High   Excellent          Yes\n",
            "15     Unemployed     Low        Poor           No\n",
            "16       Employed  Medium     Average          Yes\n",
            "17  Self-Employed    High   Excellent          Yes\n",
            "18        Student     Low     Average           No\n",
            "19     Unemployed     Low        Poor           No\n",
            "20       Employed  Medium        Good          Yes\n",
            "21        Student  Medium        Poor           No\n",
            "22  Self-Employed    High   Excellent          Yes\n",
            "23       Employed    High        Good          Yes\n",
            "24     Unemployed     Low        Poor           No\n"
          ]
        }
      ]
    },
    {
      "cell_type": "code",
      "source": [
        "# def loge2(n)->float:\n",
        "#   c=0\n",
        "#   n=float(n)\n",
        "#   c=float(c)\n",
        "#   while(n>1):\n",
        "#     n=float(n//2)\n",
        "#     print(\"n= \",n)\n",
        "#     c=float(c+1)\n",
        "#   return c\n",
        "\n",
        "# loge2(3)\n",
        "\n",
        "from math import log2"
      ],
      "metadata": {
        "id": "0bI-2E6A80ce"
      },
      "execution_count": 3,
      "outputs": []
    },
    {
      "cell_type": "code",
      "source": [
        "# def entropy(y):\n",
        "#   # Calculate entropy\n",
        "#   # y=Loan approval\n",
        "#   values ,count= np.unique(y, return_counts=True)\n",
        "#   print(\"\\n\",count,\" -> \",count,\"\\n\")\n",
        "\n",
        "#   probabilities=count/count.sum() #probabilities\n",
        "# # Entropy= -(E p.log2p)\n",
        "#   for p in probabilities:\n",
        "#     if p>0:\n",
        "#       P+=p*log2(p)\n",
        "#   return p"
      ],
      "metadata": {
        "id": "chRm37tzCSmW"
      },
      "execution_count": 4,
      "outputs": []
    },
    {
      "cell_type": "code",
      "source": [
        "def entropy(y):\n",
        "  # Calculate entropy\n",
        "  # y=Loan approval column\n",
        "  values ,count= np.unique(y, return_counts=True)\n",
        "  probabilities=count/count.sum() #probabilities\n",
        "# Entropy= -(E p.log2p)\n",
        "  P=0\n",
        "  for p in probabilities:\n",
        "    if p>0:\n",
        "      P+=p*log2(p)\n",
        "  return -P\n",
        "  # return sum(p * log2(p) for p in probabilities if p > 0)"
      ],
      "metadata": {
        "id": "Unsa51dzCqAL"
      },
      "execution_count": 5,
      "outputs": []
    },
    {
      "cell_type": "code",
      "source": [
        "entropy(data['LoanApproval'])"
      ],
      "metadata": {
        "colab": {
          "base_uri": "https://localhost:8080/"
        },
        "id": "hxDTczWUCalU",
        "outputId": "196fc8ca-1838-4eee-de2b-9eea39a5f406"
      },
      "execution_count": 6,
      "outputs": [
        {
          "output_type": "execute_result",
          "data": {
            "text/plain": [
              "np.float64(0.9988455359952018)"
            ]
          },
          "metadata": {},
          "execution_count": 6
        }
      ]
    },
    {
      "cell_type": "code",
      "source": [
        "len(data)"
      ],
      "metadata": {
        "colab": {
          "base_uri": "https://localhost:8080/"
        },
        "id": "Q3wHMUbsAAkg",
        "outputId": "b44b66c2-0f10-4c36-d043-ce688e81b3cf"
      },
      "execution_count": 7,
      "outputs": [
        {
          "output_type": "execute_result",
          "data": {
            "text/plain": [
              "4"
            ]
          },
          "metadata": {},
          "execution_count": 7
        }
      ]
    },
    {
      "cell_type": "code",
      "source": [
        "data['CreditScore']"
      ],
      "metadata": {
        "colab": {
          "base_uri": "https://localhost:8080/"
        },
        "id": "vNF5y8TTF4m6",
        "outputId": "b028bed3-6ce3-41c9-898b-692561b972b1"
      },
      "execution_count": 8,
      "outputs": [
        {
          "output_type": "execute_result",
          "data": {
            "text/plain": [
              "['Good',\n",
              " 'Average',\n",
              " 'Poor',\n",
              " 'Average',\n",
              " 'Good',\n",
              " 'Poor',\n",
              " 'Poor',\n",
              " 'Average',\n",
              " 'Good',\n",
              " 'Poor',\n",
              " 'Good',\n",
              " 'Poor',\n",
              " 'Average',\n",
              " 'Good',\n",
              " 'Excellent',\n",
              " 'Poor',\n",
              " 'Average',\n",
              " 'Excellent',\n",
              " 'Average',\n",
              " 'Poor',\n",
              " 'Good',\n",
              " 'Poor',\n",
              " 'Excellent',\n",
              " 'Good',\n",
              " 'Poor']"
            ]
          },
          "metadata": {},
          "execution_count": 8
        }
      ]
    },
    {
      "cell_type": "code",
      "source": [
        "def gain(y):\n",
        "  values ,count= np.unique(y, return_counts=True)\n",
        "  child=0.0;\n",
        "  for i in range(len(values)):\n",
        "    subset = y[y == values[i]]\n",
        "    child+=(count[i]/len(y))*entropy(subset)\n",
        "  return entropy(data['LoanApproval'])-child"
      ],
      "metadata": {
        "id": "_f7W4qOvBX_N"
      },
      "execution_count": 9,
      "outputs": []
    },
    {
      "cell_type": "code",
      "source": [
        "def gain(y):\n",
        "  values ,count= np.unique(y, return_counts=True)\n",
        "  child=0.0;\n",
        "  for i in range(len(values)):\n",
        "    subset = y[y == count[i]]\n",
        "    child+=(count[i]/len(y))*entropy(subset)\n",
        "  return entropy(data['LoanApproval'])-child"
      ],
      "metadata": {
        "id": "ghfS-ya6nsuM"
      },
      "execution_count": 10,
      "outputs": []
    },
    {
      "cell_type": "code",
      "source": [
        "gain(data['CreditScore'])"
      ],
      "metadata": {
        "colab": {
          "base_uri": "https://localhost:8080/",
          "height": 263
        },
        "id": "MiBgsCWDApWn",
        "outputId": "2414b032-1062-46b0-9b95-7ba3a60bc5da"
      },
      "execution_count": 11,
      "outputs": [
        {
          "output_type": "error",
          "ename": "TypeError",
          "evalue": "only integer scalar arrays can be converted to a scalar index",
          "traceback": [
            "\u001b[0;31m---------------------------------------------------------------------------\u001b[0m",
            "\u001b[0;31mTypeError\u001b[0m                                 Traceback (most recent call last)",
            "\u001b[0;32m/tmp/ipython-input-1467654717.py\u001b[0m in \u001b[0;36m<cell line: 0>\u001b[0;34m()\u001b[0m\n\u001b[0;32m----> 1\u001b[0;31m \u001b[0mgain\u001b[0m\u001b[0;34m(\u001b[0m\u001b[0mdata\u001b[0m\u001b[0;34m[\u001b[0m\u001b[0;34m'CreditScore'\u001b[0m\u001b[0;34m]\u001b[0m\u001b[0;34m)\u001b[0m\u001b[0;34m\u001b[0m\u001b[0;34m\u001b[0m\u001b[0m\n\u001b[0m",
            "\u001b[0;32m/tmp/ipython-input-4240066485.py\u001b[0m in \u001b[0;36mgain\u001b[0;34m(y)\u001b[0m\n\u001b[1;32m      3\u001b[0m   \u001b[0mchild\u001b[0m\u001b[0;34m=\u001b[0m\u001b[0;36m0.0\u001b[0m\u001b[0;34m;\u001b[0m\u001b[0;34m\u001b[0m\u001b[0;34m\u001b[0m\u001b[0m\n\u001b[1;32m      4\u001b[0m   \u001b[0;32mfor\u001b[0m \u001b[0mi\u001b[0m \u001b[0;32min\u001b[0m \u001b[0mrange\u001b[0m\u001b[0;34m(\u001b[0m\u001b[0mlen\u001b[0m\u001b[0;34m(\u001b[0m\u001b[0mvalues\u001b[0m\u001b[0;34m)\u001b[0m\u001b[0;34m)\u001b[0m\u001b[0;34m:\u001b[0m\u001b[0;34m\u001b[0m\u001b[0;34m\u001b[0m\u001b[0m\n\u001b[0;32m----> 5\u001b[0;31m     \u001b[0msubset\u001b[0m \u001b[0;34m=\u001b[0m \u001b[0my\u001b[0m\u001b[0;34m[\u001b[0m\u001b[0my\u001b[0m \u001b[0;34m==\u001b[0m \u001b[0mcount\u001b[0m\u001b[0;34m[\u001b[0m\u001b[0mi\u001b[0m\u001b[0;34m]\u001b[0m\u001b[0;34m]\u001b[0m\u001b[0;34m\u001b[0m\u001b[0;34m\u001b[0m\u001b[0m\n\u001b[0m\u001b[1;32m      6\u001b[0m     \u001b[0mchild\u001b[0m\u001b[0;34m+=\u001b[0m\u001b[0;34m(\u001b[0m\u001b[0mcount\u001b[0m\u001b[0;34m[\u001b[0m\u001b[0mi\u001b[0m\u001b[0;34m]\u001b[0m\u001b[0;34m/\u001b[0m\u001b[0mlen\u001b[0m\u001b[0;34m(\u001b[0m\u001b[0my\u001b[0m\u001b[0;34m)\u001b[0m\u001b[0;34m)\u001b[0m\u001b[0;34m*\u001b[0m\u001b[0mentropy\u001b[0m\u001b[0;34m(\u001b[0m\u001b[0msubset\u001b[0m\u001b[0;34m)\u001b[0m\u001b[0;34m\u001b[0m\u001b[0;34m\u001b[0m\u001b[0m\n\u001b[1;32m      7\u001b[0m   \u001b[0;32mreturn\u001b[0m \u001b[0mentropy\u001b[0m\u001b[0;34m(\u001b[0m\u001b[0mdata\u001b[0m\u001b[0;34m[\u001b[0m\u001b[0;34m'LoanApproval'\u001b[0m\u001b[0;34m]\u001b[0m\u001b[0;34m)\u001b[0m\u001b[0;34m-\u001b[0m\u001b[0mchild\u001b[0m\u001b[0;34m\u001b[0m\u001b[0;34m\u001b[0m\u001b[0m\n",
            "\u001b[0;31mTypeError\u001b[0m: only integer scalar arrays can be converted to a scalar index"
          ]
        }
      ]
    },
    {
      "cell_type": "code",
      "source": [],
      "metadata": {
        "id": "jYuDmIqna8Ie"
      },
      "execution_count": null,
      "outputs": []
    }
  ]
}