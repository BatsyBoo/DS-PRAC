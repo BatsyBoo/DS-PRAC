{
  "nbformat": 4,
  "nbformat_minor": 0,
  "metadata": {
    "colab": {
      "provenance": [],
      "include_colab_link": true
    },
    "kernelspec": {
      "name": "python3",
      "display_name": "Python 3"
    },
    "language_info": {
      "name": "python"
    }
  },
  "cells": [
    {
      "cell_type": "markdown",
      "metadata": {
        "id": "view-in-github",
        "colab_type": "text"
      },
      "source": [
        "<a href=\"https://colab.research.google.com/github/BatsyBoo/DS-PRAC/blob/main/PCA_do.ipynb\" target=\"_parent\"><img src=\"https://colab.research.google.com/assets/colab-badge.svg\" alt=\"Open In Colab\"/></a>"
      ]
    },
    {
      "cell_type": "code",
      "execution_count": null,
      "metadata": {
        "id": "4iNjqy_IEEO_"
      },
      "outputs": [],
      "source": [
        "import pandas as pd\n",
        "import numpy as np\n",
        "import matplotlib.pyplot as plt\n",
        "\n",
        " # Small example dataset: 6 samples, 3 features\n",
        "X = np.array([\n",
        "       [2.5, 2.4, 1.2],\n",
        "       [0.5, 0.7, 0.3],\n",
        "       [2.2, 2.9, 1.0],\n",
        "       [1.9, 2.2, 0.8],\n",
        "       [3.1, 3.0, 1.4],\n",
        "       [2.3, 2.7, 1.1],\n",
        "], dtype=float)"
      ]
    },
    {
      "cell_type": "code",
      "source": [
        "X_mean = np.mean(X, axis=0)\n",
        "print(X_mean)"
      ],
      "metadata": {
        "colab": {
          "base_uri": "https://localhost:8080/"
        },
        "id": "nD1sv_A_EvY5",
        "outputId": "14cd9e0c-b7d5-4561-8abd-b5b44299ca44"
      },
      "execution_count": null,
      "outputs": [
        {
          "output_type": "stream",
          "name": "stdout",
          "text": [
            "[2.08333333 2.31666667 0.96666667]\n"
          ]
        }
      ]
    },
    {
      "cell_type": "code",
      "source": [
        "# print(X.shape[0])\n",
        "vari=((X-X_mean)*(X-X_mean))/X.shape[0]\n",
        "print(vari)"
      ],
      "metadata": {
        "colab": {
          "base_uri": "https://localhost:8080/"
        },
        "id": "z8UxkK6fb43E",
        "outputId": "a6d0901d-2dcd-4e31-8690-ccda43091b14"
      },
      "execution_count": null,
      "outputs": [
        {
          "output_type": "stream",
          "name": "stdout",
          "text": [
            "[[2.89351852e-02 1.15740741e-03 9.07407407e-03]\n",
            " [4.17824074e-01 4.35601852e-01 7.40740741e-02]\n",
            " [2.26851852e-03 5.67129630e-02 1.85185185e-04]\n",
            " [5.60185185e-03 2.26851852e-03 4.62962963e-03]\n",
            " [1.72268519e-01 7.78240741e-02 3.12962963e-02]\n",
            " [7.82407407e-03 2.44907407e-02 2.96296296e-03]]\n"
          ]
        }
      ]
    },
    {
      "cell_type": "code",
      "source": [
        "X_centered = X - X_mean\n",
        "covariance_matrix = np.cov(X_centered, rowvar=False)\n",
        "print(cov_matrix)"
      ],
      "metadata": {
        "colab": {
          "base_uri": "https://localhost:8080/"
        },
        "id": "fApJ2H-KdQqE",
        "outputId": "44c77661-6e7d-4a60-a6e7-150ceec3ab16"
      },
      "execution_count": null,
      "outputs": [
        {
          "output_type": "stream",
          "name": "stdout",
          "text": [
            "[[0.76166667 0.69233333 0.33133333]\n",
            " [0.69233333 0.71766667 0.29666667]\n",
            " [0.33133333 0.29666667 0.14666667]]\n"
          ]
        }
      ]
    },
    {
      "cell_type": "code",
      "source": [],
      "metadata": {
        "id": "0dyZRHykfpZy"
      },
      "execution_count": null,
      "outputs": []
    }
  ]
}