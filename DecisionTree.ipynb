{
  "nbformat": 4,
  "nbformat_minor": 0,
  "metadata": {
    "colab": {
      "provenance": [],
      "authorship_tag": "ABX9TyPzm4YqsN6KCEo9iBl9Uqf4",
      "include_colab_link": true
    },
    "kernelspec": {
      "name": "python3",
      "display_name": "Python 3"
    },
    "language_info": {
      "name": "python"
    }
  },
  "cells": [
    {
      "cell_type": "markdown",
      "metadata": {
        "id": "view-in-github",
        "colab_type": "text"
      },
      "source": [
        "<a href=\"https://colab.research.google.com/github/BatsyBoo/DS-PRAC/blob/main/DecisionTree.ipynb\" target=\"_parent\"><img src=\"https://colab.research.google.com/assets/colab-badge.svg\" alt=\"Open In Colab\"/></a>"
      ]
    },
    {
      "cell_type": "code",
      "execution_count": null,
      "metadata": {
        "id": "PASFRwzY6jwU"
      },
      "outputs": [],
      "source": [
        "import pandas as pd\n",
        "import numpy as  np"
      ]
    },
    {
      "cell_type": "code",
      "source": [
        "\n",
        "# data = {\n",
        "#     'Employment': [\n",
        "#         'Employed', 'Employed', 'Unemployed', 'Student', 'Employed',\n",
        "#         'Student', 'Unemployed', 'Employed', 'Student', 'Unemployed'\n",
        "#     ],\n",
        "#     'Income': [\n",
        "#         'High', 'Medium', 'Low', 'Low', 'High',\n",
        "#         'Medium', 'Low', 'Medium', 'Low', 'Medium'\n",
        "#     ],\n",
        "#     'CreditScore': [\n",
        "#         'Good', 'Average', 'Poor', 'Average', 'Good',\n",
        "#         'Poor', 'Poor', 'Average', 'Good', 'Poor'\n",
        "#     ],\n",
        "#     'LoanApproval': [\n",
        "#         'Yes', 'Yes', 'No', 'No', 'Yes',\n",
        "#         'No', 'No', 'Yes', 'Yes', 'No'\n",
        "#     ]\n",
        "# }\n",
        "#new-->next\n",
        "\n",
        "data = {\n",
        "    'Employment': [\n",
        "        'Employed', 'Employed', 'Unemployed', 'Student', 'Employed',\n",
        "        'Student', 'Unemployed', 'Employed', 'Student', 'Unemployed',\n",
        "        'Employed', 'Unemployed', 'Student', 'Employed', 'Self-Employed',\n",
        "        'Unemployed', 'Employed', 'Self-Employed', 'Student', 'Unemployed',\n",
        "        'Employed', 'Student', 'Self-Employed', 'Employed', 'Unemployed'\n",
        "    ],\n",
        "    'Income': [\n",
        "        'High', 'Medium', 'Low', 'Low', 'High',\n",
        "        'Medium', 'Low', 'Medium', 'Low', 'Medium',\n",
        "        'High', 'Low', 'Low', 'High', 'High',\n",
        "        'Low', 'Medium', 'High', 'Low', 'Low',\n",
        "        'Medium', 'Medium', 'High', 'High', 'Low'\n",
        "    ],\n",
        "    'CreditScore': [\n",
        "        'Good', 'Average', 'Poor', 'Average', 'Good',\n",
        "        'Poor', 'Poor', 'Average', 'Good', 'Poor',\n",
        "        'Good', 'Poor', 'Average', 'Good', 'Excellent',\n",
        "        'Poor', 'Average', 'Excellent', 'Average', 'Poor',\n",
        "        'Good', 'Poor', 'Excellent', 'Good', 'Poor'\n",
        "    ],\n",
        "    'LoanApproval': [\n",
        "        'Yes', 'Yes', 'No', 'No', 'Yes',\n",
        "        'No', 'No', 'Yes', 'Yes', 'No',\n",
        "        'Yes', 'No', 'No', 'Yes', 'Yes',\n",
        "        'No', 'Yes', 'Yes', 'No', 'No',\n",
        "        'Yes', 'No', 'Yes', 'Yes', 'No'\n",
        "    ]\n",
        "}\n",
        "\n",
        "\n",
        "\n",
        "df = pd.DataFrame(data)\n",
        "print(df)\n"
      ],
      "metadata": {
        "colab": {
          "base_uri": "https://localhost:8080/"
        },
        "id": "_3MpOzUU6wLg",
        "outputId": "59d6233a-7f96-4cbd-8962-a450103e9d97"
      },
      "execution_count": 35,
      "outputs": [
        {
          "output_type": "stream",
          "name": "stdout",
          "text": [
            "       Employment  Income CreditScore LoanApproval\n",
            "0        Employed    High        Good          Yes\n",
            "1        Employed  Medium     Average          Yes\n",
            "2      Unemployed     Low        Poor           No\n",
            "3         Student     Low     Average           No\n",
            "4        Employed    High        Good          Yes\n",
            "5         Student  Medium        Poor           No\n",
            "6      Unemployed     Low        Poor           No\n",
            "7        Employed  Medium     Average          Yes\n",
            "8         Student     Low        Good          Yes\n",
            "9      Unemployed  Medium        Poor           No\n",
            "10       Employed    High        Good          Yes\n",
            "11     Unemployed     Low        Poor           No\n",
            "12        Student     Low     Average           No\n",
            "13       Employed    High        Good          Yes\n",
            "14  Self-Employed    High   Excellent          Yes\n",
            "15     Unemployed     Low        Poor           No\n",
            "16       Employed  Medium     Average          Yes\n",
            "17  Self-Employed    High   Excellent          Yes\n",
            "18        Student     Low     Average           No\n",
            "19     Unemployed     Low        Poor           No\n",
            "20       Employed  Medium        Good          Yes\n",
            "21        Student  Medium        Poor           No\n",
            "22  Self-Employed    High   Excellent          Yes\n",
            "23       Employed    High        Good          Yes\n",
            "24     Unemployed     Low        Poor           No\n"
          ]
        }
      ]
    },
    {
      "cell_type": "code",
      "source": [
        "# def loge2(n)->float:\n",
        "#   c=0\n",
        "#   n=float(n)\n",
        "#   c=float(c)\n",
        "#   while(n>1):\n",
        "#     n=float(n//2)\n",
        "#     print(\"n= \",n)\n",
        "#     c=float(c+1)\n",
        "#   return c\n",
        "\n",
        "# loge2(3)\n",
        "\n",
        "from math import log2"
      ],
      "metadata": {
        "id": "0bI-2E6A80ce"
      },
      "execution_count": 36,
      "outputs": []
    },
    {
      "cell_type": "code",
      "source": [
        "# def entropy(y):\n",
        "#   # Calculate entropy\n",
        "#   # y=Loan approval\n",
        "#   values ,count= np.unique(y, return_counts=True)\n",
        "#   print(\"\\n\",count,\" -> \",count,\"\\n\")\n",
        "\n",
        "#   probabilities=count/count.sum() #probabilities\n",
        "# # Entropy= -(E p.log2p)\n",
        "#   for p in probabilities:\n",
        "#     if p>0:\n",
        "#       P+=p*log2(p)\n",
        "#   return p"
      ],
      "metadata": {
        "id": "chRm37tzCSmW"
      },
      "execution_count": 37,
      "outputs": []
    },
    {
      "cell_type": "code",
      "source": [
        "def entropy(y):\n",
        "  # Calculate entropy\n",
        "  # y=Loan approval column\n",
        "  values ,count= np.unique(y, return_counts=True)\n",
        "  probabilities=count/count.sum() #probabilities\n",
        "# Entropy= -(E p.log2p)\n",
        "  P=0\n",
        "  for p in probabilities:\n",
        "    if p>0:\n",
        "      P+=p*log2(p)\n",
        "  return -P"
      ],
      "metadata": {
        "id": "Unsa51dzCqAL"
      },
      "execution_count": 38,
      "outputs": []
    },
    {
      "cell_type": "code",
      "source": [
        "entropy(data['LoanApproval'])"
      ],
      "metadata": {
        "colab": {
          "base_uri": "https://localhost:8080/"
        },
        "id": "hxDTczWUCalU",
        "outputId": "07639ed5-f849-44f6-cd18-4bfd5a6d926a"
      },
      "execution_count": 39,
      "outputs": [
        {
          "output_type": "execute_result",
          "data": {
            "text/plain": [
              "np.float64(0.9988455359952018)"
            ]
          },
          "metadata": {},
          "execution_count": 39
        }
      ]
    },
    {
      "cell_type": "code",
      "source": [
        "len(data)"
      ],
      "metadata": {
        "colab": {
          "base_uri": "https://localhost:8080/"
        },
        "id": "Q3wHMUbsAAkg",
        "outputId": "1e4bf5d7-ba93-461c-f9f2-bde9352d0ee1"
      },
      "execution_count": 40,
      "outputs": [
        {
          "output_type": "execute_result",
          "data": {
            "text/plain": [
              "4"
            ]
          },
          "metadata": {},
          "execution_count": 40
        }
      ]
    },
    {
      "cell_type": "code",
      "source": [
        "data['CreditScore']"
      ],
      "metadata": {
        "colab": {
          "base_uri": "https://localhost:8080/"
        },
        "id": "vNF5y8TTF4m6",
        "outputId": "d75627b1-b37b-47d4-be1a-4ae7d2f07448"
      },
      "execution_count": 41,
      "outputs": [
        {
          "output_type": "execute_result",
          "data": {
            "text/plain": [
              "['Good',\n",
              " 'Average',\n",
              " 'Poor',\n",
              " 'Average',\n",
              " 'Good',\n",
              " 'Poor',\n",
              " 'Poor',\n",
              " 'Average',\n",
              " 'Good',\n",
              " 'Poor',\n",
              " 'Good',\n",
              " 'Poor',\n",
              " 'Average',\n",
              " 'Good',\n",
              " 'Excellent',\n",
              " 'Poor',\n",
              " 'Average',\n",
              " 'Excellent',\n",
              " 'Average',\n",
              " 'Poor',\n",
              " 'Good',\n",
              " 'Poor',\n",
              " 'Excellent',\n",
              " 'Good',\n",
              " 'Poor']"
            ]
          },
          "metadata": {},
          "execution_count": 41
        }
      ]
    },
    {
      "cell_type": "code",
      "source": [
        "def gain(y):\n",
        "  values ,count= np.unique(y, return_counts=True)\n",
        "  child=0.0;\n",
        "  for i in range(len(values)):\n",
        "    subset = y[y == values[i]]\n",
        "    child+=(count[i]/len(y))*entropy(subset)\n",
        "  return entropy(data['LoanApproval'])-child"
      ],
      "metadata": {
        "id": "_f7W4qOvBX_N"
      },
      "execution_count": 42,
      "outputs": []
    },
    {
      "cell_type": "code",
      "source": [
        "def gain(y):\n",
        "  # values ,count= np.unique(y, return_counts=True)\n",
        "  values=y.unique()\n",
        "  child=0.0;\n",
        "  # for i in range(len(values)):\n",
        "  #   subset = y[y == count[i]]\n",
        "  #   child+=(count[i]/len(y))*entropy(subset)\n",
        "  for i in values:\n",
        "    subset = df[df[y.name] == i]['LoanApproval']\n",
        "    child+=(len(subset)/len(df))*entropy(subset)\n",
        "  return entropy(df['LoanApproval'])-child"
      ],
      "metadata": {
        "id": "ghfS-ya6nsuM"
      },
      "execution_count": 43,
      "outputs": []
    },
    {
      "cell_type": "code",
      "source": [
        "gain(df['CreditScore'])"
      ],
      "metadata": {
        "colab": {
          "base_uri": "https://localhost:8080/"
        },
        "id": "MiBgsCWDApWn",
        "outputId": "6e1fa502-d89d-4d65-83af-397dd5581d31"
      },
      "execution_count": 44,
      "outputs": [
        {
          "output_type": "execute_result",
          "data": {
            "text/plain": [
              "np.float64(0.7588455359952018)"
            ]
          },
          "metadata": {},
          "execution_count": 44
        }
      ]
    },
    {
      "cell_type": "code",
      "source": [
        "#check which attribute gives the max info gain\n",
        "gains = {\n",
        "    'Employment': gain(df['Employment']),\n",
        "    'Income': gain(df['Income']),\n",
        "    'CreditScore': gain(df['CreditScore'])\n",
        "}\n",
        "best_atri=max(gains, key=gains.get)"
      ],
      "metadata": {
        "id": "jYuDmIqna8Ie"
      },
      "execution_count": 45,
      "outputs": []
    },
    {
      "cell_type": "code",
      "source": [
        "root = best_atri\n",
        "for value in df[root].unique():\n",
        "    subset = df[df[root] == value]\n",
        "    print(f\"\\nSubset for {root} = {value}\")\n",
        "    print(subset)\n"
      ],
      "metadata": {
        "id": "Fw4snGQhFGHw",
        "outputId": "d59fbe59-089f-486e-a48a-e405371f4489",
        "colab": {
          "base_uri": "https://localhost:8080/"
        }
      },
      "execution_count": 46,
      "outputs": [
        {
          "output_type": "stream",
          "name": "stdout",
          "text": [
            "\n",
            "Subset for Employment = Employed\n",
            "   Employment  Income CreditScore LoanApproval\n",
            "0    Employed    High        Good          Yes\n",
            "1    Employed  Medium     Average          Yes\n",
            "4    Employed    High        Good          Yes\n",
            "7    Employed  Medium     Average          Yes\n",
            "10   Employed    High        Good          Yes\n",
            "13   Employed    High        Good          Yes\n",
            "16   Employed  Medium     Average          Yes\n",
            "20   Employed  Medium        Good          Yes\n",
            "23   Employed    High        Good          Yes\n",
            "\n",
            "Subset for Employment = Unemployed\n",
            "    Employment  Income CreditScore LoanApproval\n",
            "2   Unemployed     Low        Poor           No\n",
            "6   Unemployed     Low        Poor           No\n",
            "9   Unemployed  Medium        Poor           No\n",
            "11  Unemployed     Low        Poor           No\n",
            "15  Unemployed     Low        Poor           No\n",
            "19  Unemployed     Low        Poor           No\n",
            "24  Unemployed     Low        Poor           No\n",
            "\n",
            "Subset for Employment = Student\n",
            "   Employment  Income CreditScore LoanApproval\n",
            "3     Student     Low     Average           No\n",
            "5     Student  Medium        Poor           No\n",
            "8     Student     Low        Good          Yes\n",
            "12    Student     Low     Average           No\n",
            "18    Student     Low     Average           No\n",
            "21    Student  Medium        Poor           No\n",
            "\n",
            "Subset for Employment = Self-Employed\n",
            "       Employment Income CreditScore LoanApproval\n",
            "14  Self-Employed   High   Excellent          Yes\n",
            "17  Self-Employed   High   Excellent          Yes\n",
            "22  Self-Employed   High   Excellent          Yes\n"
          ]
        }
      ]
    },
    {
      "cell_type": "code",
      "source": [],
      "metadata": {
        "id": "J6lW53iiFMc5"
      },
      "execution_count": null,
      "outputs": []
    }
  ]
}